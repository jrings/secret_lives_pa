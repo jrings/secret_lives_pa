{
 "cells": [
  {
   "cell_type": "code",
   "execution_count": 5,
   "metadata": {},
   "outputs": [
    {
     "name": "stdout",
     "output_type": "stream",
     "text": [
      "The rich extension is already loaded. To reload it, use:\n",
      "  %reload_ext rich\n"
     ]
    }
   ],
   "source": [
    "%load_ext rich\n",
    "from ipywidgets import interact\n",
    "from docket_extract import *\n",
    "import itertools\n",
    "import os\n",
    "import glob"
   ]
  },
  {
   "cell_type": "code",
   "execution_count": 3,
   "metadata": {},
   "outputs": [
    {
     "data": {
      "text/html": [
       "<pre style=\"white-space:pre;overflow-x:auto;line-height:normal;font-family:Menlo,'DejaVu Sans Mono',consolas,'Courier New',monospace\">\n",
       "<span style=\"font-weight: bold\">[</span>\n",
       "    <span style=\"color: #008000; text-decoration-color: #008000\">'../../data/example_docketsheets_courtsummaries/DS_ MJ-17302-CR-0000035-2015.pdf'</span>,\n",
       "    <span style=\"color: #008000; text-decoration-color: #008000\">'../../data/example_docketsheets_courtsummaries/DS_CP-05-CR-0000151-2006.pdf'</span>,\n",
       "    <span style=\"color: #008000; text-decoration-color: #008000\">'../../data/example_docketsheets_courtsummaries/DS_CP-27-CR-0000035-2005.pdf'</span>,\n",
       "    <span style=\"color: #008000; text-decoration-color: #008000\">'../../data/example_docketsheets_courtsummaries/DS_MC-51-CR-0016214-2020.pdf'</span>,\n",
       "    <span style=\"color: #008000; text-decoration-color: #008000\">'../../data/example_docketsheets_courtsummaries/DS_MJ-05216-CR-0000076-2022.pdf'</span>,\n",
       "    <span style=\"color: #008000; text-decoration-color: #008000\">'../../data/example_docketsheets_courtsummaries/DS_MJ-07104-CR-0000001-2023.pdf'</span>,\n",
       "    <span style=\"color: #008000; text-decoration-color: #008000\">'../../data/example_docketsheets_courtsummaries/DS_MJ-07108-CR-0000086-2020.pdf'</span>,\n",
       "    <span style=\"color: #008000; text-decoration-color: #008000\">'../../data/example_docketsheets_courtsummaries/DS_MJ-12301-CR-0000168-2017.pdf'</span>,\n",
       "    <span style=\"color: #008000; text-decoration-color: #008000\">'../../data/example_docketsheets_courtsummaries/DS_MJ-19310-CR-0000176-2011.pdf'</span>,\n",
       "    <span style=\"color: #008000; text-decoration-color: #008000\">'../../data/example_docketsheets_courtsummaries/DS_MJ-26304-CR-0000183-2006.pdf'</span>\n",
       "<span style=\"font-weight: bold\">]</span>\n",
       "</pre>\n"
      ],
      "text/plain": [
       "\n",
       "\u001b[1m[\u001b[0m\n",
       "    \u001b[32m'../../data/example_docketsheets_courtsummaries/DS_ MJ-17302-CR-0000035-2015.pdf'\u001b[0m,\n",
       "    \u001b[32m'../../data/example_docketsheets_courtsummaries/DS_CP-05-CR-0000151-2006.pdf'\u001b[0m,\n",
       "    \u001b[32m'../../data/example_docketsheets_courtsummaries/DS_CP-27-CR-0000035-2005.pdf'\u001b[0m,\n",
       "    \u001b[32m'../../data/example_docketsheets_courtsummaries/DS_MC-51-CR-0016214-2020.pdf'\u001b[0m,\n",
       "    \u001b[32m'../../data/example_docketsheets_courtsummaries/DS_MJ-05216-CR-0000076-2022.pdf'\u001b[0m,\n",
       "    \u001b[32m'../../data/example_docketsheets_courtsummaries/DS_MJ-07104-CR-0000001-2023.pdf'\u001b[0m,\n",
       "    \u001b[32m'../../data/example_docketsheets_courtsummaries/DS_MJ-07108-CR-0000086-2020.pdf'\u001b[0m,\n",
       "    \u001b[32m'../../data/example_docketsheets_courtsummaries/DS_MJ-12301-CR-0000168-2017.pdf'\u001b[0m,\n",
       "    \u001b[32m'../../data/example_docketsheets_courtsummaries/DS_MJ-19310-CR-0000176-2011.pdf'\u001b[0m,\n",
       "    \u001b[32m'../../data/example_docketsheets_courtsummaries/DS_MJ-26304-CR-0000183-2006.pdf'\u001b[0m\n",
       "\u001b[1m]\u001b[0m\n"
      ]
     },
     "metadata": {},
     "output_type": "display_data"
    }
   ],
   "source": [
    "ds_dir = \"../../data/example_docketsheets_courtsummaries/\"\n",
    "fnames = list(sorted(glob.glob(os.path.join(ds_dir, \"*DS_*pdf\"))))\n",
    "fnames"
   ]
  },
  {
   "cell_type": "code",
   "execution_count": 4,
   "metadata": {},
   "outputs": [],
   "source": [
    "sectioned = {fname: extract_sections(extract_text_from_pdf(fname)) for fname in fnames}"
   ]
  },
  {
   "cell_type": "code",
   "execution_count": 14,
   "metadata": {},
   "outputs": [
    {
     "data": {
      "text/html": [
       "<pre style=\"white-space:pre;overflow-x:auto;line-height:normal;font-family:Menlo,'DejaVu Sans Mono',consolas,'Courier New',monospace\">\n",
       "<span style=\"font-weight: bold\">[</span>\n",
       "    <span style=\"font-weight: bold\">(</span><span style=\"color: #008000; text-decoration-color: #008000\">''</span>, <span style=\"color: #008080; text-decoration-color: #008080; font-weight: bold\">10</span><span style=\"font-weight: bold\">)</span>,\n",
       "    <span style=\"font-weight: bold\">(</span><span style=\"color: #008000; text-decoration-color: #008000\">'CASE INFORMATION'</span>, <span style=\"color: #008080; text-decoration-color: #008080; font-weight: bold\">10</span><span style=\"font-weight: bold\">)</span>,\n",
       "    <span style=\"font-weight: bold\">(</span><span style=\"color: #008000; text-decoration-color: #008000\">'STATUS INFORMATION'</span>, <span style=\"color: #008080; text-decoration-color: #008080; font-weight: bold\">10</span><span style=\"font-weight: bold\">)</span>,\n",
       "    <span style=\"font-weight: bold\">(</span><span style=\"color: #008000; text-decoration-color: #008000\">'CASE PARTICIPANTS'</span>, <span style=\"color: #008080; text-decoration-color: #008080; font-weight: bold\">10</span><span style=\"font-weight: bold\">)</span>,\n",
       "    <span style=\"font-weight: bold\">(</span><span style=\"color: #008000; text-decoration-color: #008000\">'CHARGES'</span>, <span style=\"color: #008080; text-decoration-color: #008080; font-weight: bold\">10</span><span style=\"font-weight: bold\">)</span>,\n",
       "    <span style=\"font-weight: bold\">(</span><span style=\"color: #008000; text-decoration-color: #008000\">'DEFENDANT INFORMATION'</span>, <span style=\"color: #008080; text-decoration-color: #008080; font-weight: bold\">10</span><span style=\"font-weight: bold\">)</span>,\n",
       "    <span style=\"font-weight: bold\">(</span><span style=\"color: #008000; text-decoration-color: #008000\">'CALENDAR EVENTS'</span>, <span style=\"color: #008080; text-decoration-color: #008080; font-weight: bold\">10</span><span style=\"font-weight: bold\">)</span>,\n",
       "    <span style=\"font-weight: bold\">(</span><span style=\"color: #008000; text-decoration-color: #008000\">'DISPOSITION / SENTENCING DETAILS'</span>, <span style=\"color: #008080; text-decoration-color: #008080; font-weight: bold\">7</span><span style=\"font-weight: bold\">)</span>,\n",
       "    <span style=\"font-weight: bold\">(</span><span style=\"color: #008000; text-decoration-color: #008000\">'DOCKET ENTRY INFORMATION'</span>, <span style=\"color: #008080; text-decoration-color: #008080; font-weight: bold\">7</span><span style=\"font-weight: bold\">)</span>,\n",
       "    <span style=\"font-weight: bold\">(</span><span style=\"color: #008000; text-decoration-color: #008000\">'DOCKET'</span>, <span style=\"color: #008080; text-decoration-color: #008080; font-weight: bold\">7</span><span style=\"font-weight: bold\">)</span>,\n",
       "    <span style=\"font-weight: bold\">(</span><span style=\"color: #008000; text-decoration-color: #008000\">'BAIL'</span>, <span style=\"color: #008080; text-decoration-color: #008080; font-weight: bold\">7</span><span style=\"font-weight: bold\">)</span>,\n",
       "    <span style=\"font-weight: bold\">(</span><span style=\"color: #008000; text-decoration-color: #008000\">'ATTORNEY INFORMATION'</span>, <span style=\"color: #008080; text-decoration-color: #008080; font-weight: bold\">7</span><span style=\"font-weight: bold\">)</span>,\n",
       "    <span style=\"font-weight: bold\">(</span><span style=\"color: #008000; text-decoration-color: #008000\">'CONFINEMENT'</span>, <span style=\"color: #008080; text-decoration-color: #008080; font-weight: bold\">4</span><span style=\"font-weight: bold\">)</span>,\n",
       "    <span style=\"font-weight: bold\">(</span><span style=\"color: #008000; text-decoration-color: #008000\">'ENTRIES'</span>, <span style=\"color: #008080; text-decoration-color: #008080; font-weight: bold\">3</span><span style=\"font-weight: bold\">)</span>,\n",
       "    <span style=\"font-weight: bold\">(</span><span style=\"color: #008000; text-decoration-color: #008000\">'COMMONWEALTH INFORMATION            ATTORNEY INFORMATION'</span>, <span style=\"color: #008080; text-decoration-color: #008080; font-weight: bold\">3</span><span style=\"font-weight: bold\">)</span>,\n",
       "    <span style=\"font-weight: bold\">(</span><span style=\"color: #008000; text-decoration-color: #008000\">'BAIL INFORMATION'</span>, <span style=\"color: #008080; text-decoration-color: #008080; font-weight: bold\">3</span><span style=\"font-weight: bold\">)</span>,\n",
       "    <span style=\"font-weight: bold\">(</span><span style=\"color: #008000; text-decoration-color: #008000\">'CASE FINANCIAL INFORMATION'</span>, <span style=\"color: #008080; text-decoration-color: #008080; font-weight: bold\">3</span><span style=\"font-weight: bold\">)</span>,\n",
       "    <span style=\"font-weight: bold\">(</span><span style=\"color: #008000; text-decoration-color: #008000\">'CRIMINAL DOCKET'</span>, <span style=\"color: #008080; text-decoration-color: #008080; font-weight: bold\">3</span><span style=\"font-weight: bold\">)</span>,\n",
       "    <span style=\"font-weight: bold\">(</span><span style=\"color: #008000; text-decoration-color: #008000\">'DISPOSITION SENTENCING/PENALTIES'</span>, <span style=\"color: #008080; text-decoration-color: #008080; font-weight: bold\">3</span><span style=\"font-weight: bold\">)</span>,\n",
       "    <span style=\"font-weight: bold\">(</span><span style=\"color: #008000; text-decoration-color: #008000\">'PAYMENT PLAN SUMMARY'</span>, <span style=\"color: #008080; text-decoration-color: #008080; font-weight: bold\">1</span><span style=\"font-weight: bold\">)</span>,\n",
       "    <span style=\"font-weight: bold\">(</span><span style=\"color: #008000; text-decoration-color: #008000\">'WRITING'</span>, <span style=\"color: #008080; text-decoration-color: #008080; font-weight: bold\">1</span><span style=\"font-weight: bold\">)</span>,\n",
       "    <span style=\"font-weight: bold\">(</span>\n",
       "        <span style=\"color: #008000; text-decoration-color: #008000\">'COURT OF COMMON PLEAS OF FOREST COUNTY                            \\n                                       DOCKET'</span>,\n",
       "        <span style=\"color: #008080; text-decoration-color: #008080; font-weight: bold\">1</span>\n",
       "    <span style=\"font-weight: bold\">)</span>,\n",
       "    <span style=\"font-weight: bold\">(</span>\n",
       "        <span style=\"color: #008000; text-decoration-color: #008000\">'COURT OF COMMON PLEAS OF BEDFORD COUNTY                            \\n                                       DOCKET'</span>,\n",
       "        <span style=\"color: #008080; text-decoration-color: #008080; font-weight: bold\">1</span>\n",
       "    <span style=\"font-weight: bold\">)</span>,\n",
       "    <span style=\"font-weight: bold\">(</span>\n",
       "        <span style=\"color: #008000; text-decoration-color: #008000\">'MUNICIPAL COURT OF PHILADELPHIA COUNTY                           \\n                                       DOCKET'</span>,\n",
       "        <span style=\"color: #008080; text-decoration-color: #008080; font-weight: bold\">1</span>\n",
       "    <span style=\"font-weight: bold\">)</span>,\n",
       "    <span style=\"font-weight: bold\">(</span><span style=\"color: #008000; text-decoration-color: #008000\">'RELATED CASES'</span>, <span style=\"color: #008080; text-decoration-color: #008080; font-weight: bold\">1</span><span style=\"font-weight: bold\">)</span>\n",
       "<span style=\"font-weight: bold\">]</span>\n",
       "</pre>\n"
      ],
      "text/plain": [
       "\n",
       "\u001b[1m[\u001b[0m\n",
       "    \u001b[1m(\u001b[0m\u001b[32m''\u001b[0m, \u001b[1;36m10\u001b[0m\u001b[1m)\u001b[0m,\n",
       "    \u001b[1m(\u001b[0m\u001b[32m'CASE INFORMATION'\u001b[0m, \u001b[1;36m10\u001b[0m\u001b[1m)\u001b[0m,\n",
       "    \u001b[1m(\u001b[0m\u001b[32m'STATUS INFORMATION'\u001b[0m, \u001b[1;36m10\u001b[0m\u001b[1m)\u001b[0m,\n",
       "    \u001b[1m(\u001b[0m\u001b[32m'CASE PARTICIPANTS'\u001b[0m, \u001b[1;36m10\u001b[0m\u001b[1m)\u001b[0m,\n",
       "    \u001b[1m(\u001b[0m\u001b[32m'CHARGES'\u001b[0m, \u001b[1;36m10\u001b[0m\u001b[1m)\u001b[0m,\n",
       "    \u001b[1m(\u001b[0m\u001b[32m'DEFENDANT INFORMATION'\u001b[0m, \u001b[1;36m10\u001b[0m\u001b[1m)\u001b[0m,\n",
       "    \u001b[1m(\u001b[0m\u001b[32m'CALENDAR EVENTS'\u001b[0m, \u001b[1;36m10\u001b[0m\u001b[1m)\u001b[0m,\n",
       "    \u001b[1m(\u001b[0m\u001b[32m'DISPOSITION / SENTENCING DETAILS'\u001b[0m, \u001b[1;36m7\u001b[0m\u001b[1m)\u001b[0m,\n",
       "    \u001b[1m(\u001b[0m\u001b[32m'DOCKET ENTRY INFORMATION'\u001b[0m, \u001b[1;36m7\u001b[0m\u001b[1m)\u001b[0m,\n",
       "    \u001b[1m(\u001b[0m\u001b[32m'DOCKET'\u001b[0m, \u001b[1;36m7\u001b[0m\u001b[1m)\u001b[0m,\n",
       "    \u001b[1m(\u001b[0m\u001b[32m'BAIL'\u001b[0m, \u001b[1;36m7\u001b[0m\u001b[1m)\u001b[0m,\n",
       "    \u001b[1m(\u001b[0m\u001b[32m'ATTORNEY INFORMATION'\u001b[0m, \u001b[1;36m7\u001b[0m\u001b[1m)\u001b[0m,\n",
       "    \u001b[1m(\u001b[0m\u001b[32m'CONFINEMENT'\u001b[0m, \u001b[1;36m4\u001b[0m\u001b[1m)\u001b[0m,\n",
       "    \u001b[1m(\u001b[0m\u001b[32m'ENTRIES'\u001b[0m, \u001b[1;36m3\u001b[0m\u001b[1m)\u001b[0m,\n",
       "    \u001b[1m(\u001b[0m\u001b[32m'COMMONWEALTH INFORMATION            ATTORNEY INFORMATION'\u001b[0m, \u001b[1;36m3\u001b[0m\u001b[1m)\u001b[0m,\n",
       "    \u001b[1m(\u001b[0m\u001b[32m'BAIL INFORMATION'\u001b[0m, \u001b[1;36m3\u001b[0m\u001b[1m)\u001b[0m,\n",
       "    \u001b[1m(\u001b[0m\u001b[32m'CASE FINANCIAL INFORMATION'\u001b[0m, \u001b[1;36m3\u001b[0m\u001b[1m)\u001b[0m,\n",
       "    \u001b[1m(\u001b[0m\u001b[32m'CRIMINAL DOCKET'\u001b[0m, \u001b[1;36m3\u001b[0m\u001b[1m)\u001b[0m,\n",
       "    \u001b[1m(\u001b[0m\u001b[32m'DISPOSITION SENTENCING/PENALTIES'\u001b[0m, \u001b[1;36m3\u001b[0m\u001b[1m)\u001b[0m,\n",
       "    \u001b[1m(\u001b[0m\u001b[32m'PAYMENT PLAN SUMMARY'\u001b[0m, \u001b[1;36m1\u001b[0m\u001b[1m)\u001b[0m,\n",
       "    \u001b[1m(\u001b[0m\u001b[32m'WRITING'\u001b[0m, \u001b[1;36m1\u001b[0m\u001b[1m)\u001b[0m,\n",
       "    \u001b[1m(\u001b[0m\n",
       "        \u001b[32m'COURT OF COMMON PLEAS OF FOREST COUNTY                            \\n                                       DOCKET'\u001b[0m,\n",
       "        \u001b[1;36m1\u001b[0m\n",
       "    \u001b[1m)\u001b[0m,\n",
       "    \u001b[1m(\u001b[0m\n",
       "        \u001b[32m'COURT OF COMMON PLEAS OF BEDFORD COUNTY                            \\n                                       DOCKET'\u001b[0m,\n",
       "        \u001b[1;36m1\u001b[0m\n",
       "    \u001b[1m)\u001b[0m,\n",
       "    \u001b[1m(\u001b[0m\n",
       "        \u001b[32m'MUNICIPAL COURT OF PHILADELPHIA COUNTY                           \\n                                       DOCKET'\u001b[0m,\n",
       "        \u001b[1;36m1\u001b[0m\n",
       "    \u001b[1m)\u001b[0m,\n",
       "    \u001b[1m(\u001b[0m\u001b[32m'RELATED CASES'\u001b[0m, \u001b[1;36m1\u001b[0m\u001b[1m)\u001b[0m\n",
       "\u001b[1m]\u001b[0m\n"
      ]
     },
     "metadata": {},
     "output_type": "display_data"
    }
   ],
   "source": [
    "all_keys = set(itertools.chain(*[list(d.keys()) for d in sectioned.values()]))\n",
    "key_count = {k: sum([k in d for d in sectioned.values()]) for k in all_keys}\n",
    "list(sorted(key_count.items(), key=lambda x: x[1], reverse=True))"
   ]
  },
  {
   "cell_type": "code",
   "execution_count": 16,
   "metadata": {},
   "outputs": [
    {
     "name": "stdout",
     "output_type": "stream",
     "text": [
      "Name:         Young, Larry Lewis       Sex:         Male                        \n",
      "    Date of Birth: 08/01/1951              Race:        White                       \n",
      "    Address(es):                                                                    \n",
      "    Home                                                                            \n",
      "    Watsontown, PA 17777                                                            \n",
      "    Advised of His Right to Apply for Assignment of Counsel? No                     \n",
      "    Public Defender Requested by the Defendant? No                                  \n",
      "    Application Provided for Appointment of Public Defender? Yes                    \n",
      "    Has the Defendant Been Fingerprinted? Yes\n",
      "Date Of Birth:  10/16/1950 City/State/Zip:  Roaring Spring, PA  16673\n",
      "Date Of Birth:  06/14/1959 City/State/Zip:  Oil City, PA  16301\n",
      "Date Of Birth:  09/28/1988 City/State/Zip:  Philadelphia, PA  19120\n",
      "Name:         Fernacz, Richard         Sex:         Male                        \n",
      "    Date of Birth: 10/04/1945              Race:        White                       \n",
      "    Address(es):                                                                    \n",
      "    Mailing                                                                         \n",
      "    Pittsburgh, PA 15236                                                            \n",
      "    Advised of His Right to Apply for Assignment of Counsel? No                     \n",
      "    Public Defender Requested by the Defendant? No                                  \n",
      "    Application Provided for Appointment of Public Defender? No                     \n",
      "    Has the Defendant Been Fingerprinted?\n",
      "Name:         Carty, Danielle M.       Sex:         Female                      \n",
      "    Date of Birth: 05/08/1987              Race:        White                       \n",
      "    Address(es):                                                                    \n",
      "    Home                                                                            \n",
      "    Levittown, PA 19057                                                             \n",
      "    Advised of His Right to Apply for Assignment of Counsel? Yes                    \n",
      "    Public Defender Requested by the Defendant? No                                  \n",
      "    Application Provided for Appointment of Public Defender? No                     \n",
      "    Has the Defendant Been Fingerprinted? Yes\n",
      "Name:         Mathiak, Michael Everett Sex:         Male                        \n",
      "    Date of Birth: 08/28/1986              Race:        White                       \n",
      "    Address(es):                                                                    \n",
      "    Home                                                                            \n",
      "    Bronx, NY                                                                       \n",
      "    Advised of His Right to Apply for Assignment of Counsel? Yes                    \n",
      "    Public Defender Requested by the Defendant? No                                  \n",
      "    Application Provided for Appointment of Public Defender? No                     \n",
      "    Has the Defendant Been Fingerprinted? Yes\n",
      "Name:         Minnich, Brenna Danae    Sex:         Female                      \n",
      "    Date of Birth: 05/21/1998              Race:        White                       \n",
      "    Address(es):                                                                    \n",
      "    Home                                                                            \n",
      "    Williamstown, PA 17098                                                          \n",
      "    Advised of His Right to Apply for Assignment of Counsel? Yes                    \n",
      "    Public Defender Requested by the Defendant? No                                  \n",
      "    Application Provided for Appointment of Public Defender? No                     \n",
      "    Has the Defendant Been Fingerprinted? Yes\n",
      "Name:         Fuhrman, James Eric      Sex:         Male                        \n",
      "    Date of Birth: 06/29/1969              Race:        White                       \n",
      "    Address(es):\n",
      "Name:         Masters, Bryan           Sex:         Male                        \n",
      "    Date of Birth: 01/24/1964              Race:        White                       \n",
      "    Address(es):                                                                    \n",
      "    Other                                                                           \n",
      "    Danville, PA 17821                                                              \n",
      "    Advised of His Right to Apply for Assignment of Counsel? No                     \n",
      "    Public Defender Requested by the Defendant? Yes                                 \n",
      "    Application Provided for Appointment of Public Defender? Yes                    \n",
      "    Has the Defendant Been Fingerprinted? No\n"
     ]
    },
    {
     "data": {
      "text/html": [
       "<pre style=\"white-space:pre;overflow-x:auto;line-height:normal;font-family:Menlo,'DejaVu Sans Mono',consolas,'Courier New',monospace\"><span style=\"font-weight: bold\">[</span><span style=\"color: #800080; text-decoration-color: #800080; font-style: italic\">None</span>, <span style=\"color: #800080; text-decoration-color: #800080; font-style: italic\">None</span>, <span style=\"color: #800080; text-decoration-color: #800080; font-style: italic\">None</span>, <span style=\"color: #800080; text-decoration-color: #800080; font-style: italic\">None</span>, <span style=\"color: #800080; text-decoration-color: #800080; font-style: italic\">None</span>, <span style=\"color: #800080; text-decoration-color: #800080; font-style: italic\">None</span>, <span style=\"color: #800080; text-decoration-color: #800080; font-style: italic\">None</span>, <span style=\"color: #800080; text-decoration-color: #800080; font-style: italic\">None</span>, <span style=\"color: #800080; text-decoration-color: #800080; font-style: italic\">None</span>, <span style=\"color: #800080; text-decoration-color: #800080; font-style: italic\">None</span><span style=\"font-weight: bold\">]</span>\n",
       "</pre>\n"
      ],
      "text/plain": [
       "\u001b[1m[\u001b[0m\u001b[3;35mNone\u001b[0m, \u001b[3;35mNone\u001b[0m, \u001b[3;35mNone\u001b[0m, \u001b[3;35mNone\u001b[0m, \u001b[3;35mNone\u001b[0m, \u001b[3;35mNone\u001b[0m, \u001b[3;35mNone\u001b[0m, \u001b[3;35mNone\u001b[0m, \u001b[3;35mNone\u001b[0m, \u001b[3;35mNone\u001b[0m\u001b[1m]\u001b[0m\n"
      ]
     },
     "metadata": {},
     "output_type": "display_data"
    }
   ],
   "source": [
    "[print(sectioned[fname][\"DEFENDANT INFORMATION\"]) for fname in fnames]"
   ]
  },
  {
   "cell_type": "code",
   "execution_count": 17,
   "metadata": {},
   "outputs": [
    {
     "name": "stdout",
     "output_type": "stream",
     "text": [
      "Date of Birth: 01/24/1964\n",
      "Race: White\n",
      "Sex: None\n"
     ]
    }
   ],
   "source": [
    "import re\n",
    "\n",
    "text = \"\"\"\n",
    "Date of Birth: 01/24/1964              Race:        White                       \n",
    "Address(es):                                                                    \n",
    "Other                                                                           \n",
    "Danville, PA 17821                                                              \n",
    "Advised of His Right to Apply for Assignment of Counsel? No                     \n",
    "Public Defender Requested by the Defendant? Yes                                 \n",
    "Application Provided for Appointment of Public Defender? Yes                    \n",
    "Has the Defendant Been Fingerprinted? No\n",
    "\"\"\"\n",
    "\n",
    "# Define regular expressions to extract the required information\n",
    "dob_pattern = r\"Date of Birth:\\s*([\\d/]+)\"\n",
    "race_pattern = r\"Race:\\s*(\\w+)\"\n",
    "sex_pattern = r\"Sex:\\s*(\\w+)\"\n",
    "\n",
    "# Extract the information using the regular expressions\n",
    "dob_match = re.search(dob_pattern, text)\n",
    "race_match = re.search(race_pattern, text)\n",
    "sex_match = re.search(sex_pattern, text)\n",
    "\n",
    "# Get the matched groups\n",
    "dob = dob_match.group(1) if dob_match else None\n",
    "race = race_match.group(1) if race_match else None\n",
    "sex = sex_match.group(1) if sex_match else None\n",
    "\n",
    "# Print the extracted information\n",
    "print(f\"Date of Birth: {dob}\")\n",
    "print(f\"Race: {race}\")\n",
    "print(f\"Sex: {sex}\")"
   ]
  },
  {
   "cell_type": "code",
   "execution_count": null,
   "metadata": {},
   "outputs": [],
   "source": []
  }
 ],
 "metadata": {
  "kernelspec": {
   "display_name": "base",
   "language": "python",
   "name": "python3"
  },
  "language_info": {
   "codemirror_mode": {
    "name": "ipython",
    "version": 3
   },
   "file_extension": ".py",
   "mimetype": "text/x-python",
   "name": "python",
   "nbconvert_exporter": "python",
   "pygments_lexer": "ipython3",
   "version": "3.10.13"
  }
 },
 "nbformat": 4,
 "nbformat_minor": 2
}
