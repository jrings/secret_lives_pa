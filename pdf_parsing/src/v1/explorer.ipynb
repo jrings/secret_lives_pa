{
 "cells": [
  {
   "cell_type": "code",
   "execution_count": 235,
   "metadata": {},
   "outputs": [],
   "source": [
    "import pdfplumber"
   ]
  },
  {
   "cell_type": "code",
   "execution_count": 403,
   "metadata": {},
   "outputs": [],
   "source": [
    "file_name = \"../courtsummary.pdf\"\n",
    "file_name = \"/Users/victoriatran/Documents/fun_stuff/secret_lives_pa/pdf_parsing/data/example_docketsheets_courtsummaries/CS_MJ-26304-CR-0000183-2006.pdf\""
   ]
  },
  {
   "cell_type": "code",
   "execution_count": 404,
   "metadata": {},
   "outputs": [],
   "source": [
    "pdf = pdfplumber.open(file_name)"
   ]
  },
  {
   "cell_type": "code",
   "execution_count": 405,
   "metadata": {},
   "outputs": [],
   "source": [
    "page = pdf.pages[0]"
   ]
  },
  {
   "cell_type": "code",
   "execution_count": 406,
   "metadata": {},
   "outputs": [],
   "source": [
    "text = page.extract_text(keep_blank_chars=True).split(\"\\n\")"
   ]
  },
  {
   "cell_type": "markdown",
   "metadata": {},
   "source": [
    "# POI Extraction"
   ]
  },
  {
   "cell_type": "markdown",
   "metadata": {},
   "source": [
    "Information is spread across \"3\" Columns\n",
    "\n",
    "* DOB is our \"starting Point\" \n",
    "Name / DOB / SEX\n",
    "LOCATION / BLANK / EYES\n",
    "ALIASES (TITLE ) / BLANK /  HAIR\n",
    "ALIAS / BLANK / RACE\n",
    "\n",
    "\n",
    "* CLOSED or OPEN? is our ending point (The first occurence)"
   ]
  },
  {
   "cell_type": "code",
   "execution_count": 407,
   "metadata": {},
   "outputs": [],
   "source": [
    "dob_index = [i for i,x in enumerate(text) if \"DOB:\" in x]\n",
    "closed_indices = [i for i,x in enumerate(text) if \"Closed\" in x]"
   ]
  },
  {
   "cell_type": "code",
   "execution_count": 408,
   "metadata": {},
   "outputs": [],
   "source": [
    "poi_info = text[dob_index[0]:closed_indices[0]]"
   ]
  },
  {
   "cell_type": "markdown",
   "metadata": {},
   "source": [
    "POI is manually extracted and cleared of whitespaces"
   ]
  },
  {
   "cell_type": "code",
   "execution_count": 409,
   "metadata": {},
   "outputs": [],
   "source": [
    "info_dict = {}\n",
    "# Name / DOB / SEX\n",
    "poi_info_l0 = poi_info[0].split(\"DOB:\")\n",
    "info_dict['Name'] = poi_info_l0[0].strip()\n",
    "poi_info_l00 = poi_info_l0[1].split(\"Sex:\")\n",
    "info_dict['DOB'] = poi_info_l00[0].strip()\n",
    "info_dict['Sex'] = poi_info_l00[1].strip()\n",
    "# LOCATION / BLANK / EYES\n",
    "poi_info_l1 = poi_info[1].split(\"Eyes:\")\n",
    "info_dict['Location'] = poi_info_l1[0].strip()\n",
    "info_dict['Eyes'] = poi_info_l1[1].strip()\n",
    "# ALIASES (TITLE ) / BLANK /  HAIR\n",
    "poi_info_l2 = poi_info[2].split(\"Hair:\")\n",
    "info_dict['Hair'] = poi_info_l1[1].strip()\n",
    "# # ALIAS / BLANK / RACE\n",
    "poi_info_l3 = poi_info[3].split(\"Race:\")\n",
    "info_dict['Aliases'] = poi_info_l3[0].strip()\n",
    "info_dict['Race'] = poi_info_l3[1].strip()\n",
    "if len(poi_info) > 4:\n",
    "    info_dict[\"Aliases\"] = [info_dict[\"Aliases\"]] + poi_info[4:]"
   ]
  },
  {
   "cell_type": "code",
   "execution_count": 410,
   "metadata": {},
   "outputs": [
    {
     "data": {
      "text/plain": [
       "{'Name': 'Masters, Bryan',\n",
       " 'DOB': '01/24/1964',\n",
       " 'Sex': 'Male',\n",
       " 'Location': 'Conway, AZ 72032',\n",
       " 'Eyes': 'Brown',\n",
       " 'Hair': 'Brown',\n",
       " 'Aliases': ['', 'Court: MDJ-26-3-04'],\n",
       " 'Race': 'White'}"
      ]
     },
     "execution_count": 410,
     "metadata": {},
     "output_type": "execute_result"
    }
   ],
   "source": [
    "info_dict"
   ]
  },
  {
   "cell_type": "markdown",
   "metadata": {},
   "source": [
    "# Case Information"
   ]
  },
  {
   "cell_type": "code",
   "execution_count": 332,
   "metadata": {},
   "outputs": [],
   "source": [
    "case_info = text[closed_indices[0]+1:]"
   ]
  },
  {
   "cell_type": "code",
   "execution_count": 338,
   "metadata": {},
   "outputs": [
    {
     "data": {
      "text/plain": [
       "['CP-51-CR-0004381-2017 Proc Status: Completed DC No: 1624004089 OTN:N 993427-1',\n",
       " 'Arrest Dt: 01/14/2016 Disp Date: 03/14/2018 Disp Judge: Lane, Timika',\n",
       " 'Def Atty: Coleman, Joseph L. - (CA)',\n",
       " 'Seq No Statute Grade Description Disposition',\n",
       " 'Sentence Dt. Sentence Type Program Period Sentence Length',\n",
       " '1 35 § 780-113 §§ A30 F Manufacture, Delivery, or Possession Guilty Plea - Negotiated',\n",
       " 'With Intent to Manufacture or Deliver',\n",
       " '03/14/2018 Confinement 5 - 23 months Min: 5 Month(s) Max: 23 Month(s)',\n",
       " '03/14/2018 Probation 2 years Max: 2 Year(s)',\n",
       " '08/16/2019 Confinement Time in to 23 months',\n",
       " '08/16/2019 Probation 3 years Max: 3 Year(s)',\n",
       " '04/18/2024 Probation 3 years Max: 3 Year(s)']"
      ]
     },
     "execution_count": 338,
     "metadata": {},
     "output_type": "execute_result"
    }
   ],
   "source": [
    "case_info[CP_starts[0]:CP_starts[1]]"
   ]
  },
  {
   "cell_type": "code",
   "execution_count": 337,
   "metadata": {},
   "outputs": [
    {
     "data": {
      "text/plain": [
       "['CP-51-CR-0000306-2018 Proc Status: Completed DC No: 1724101292 OTN:U 097973-1',\n",
       " 'Arrest Dt: 10/12/2017 Disp Date: 03/14/2018 Disp Judge: Lane, Timika',\n",
       " 'Def Atty: Sigman, Scott Philip - (CA)',\n",
       " 'Seq No Statute Grade Description Disposition',\n",
       " 'Sentence Dt. Sentence Type Program Period Sentence Length',\n",
       " '1 35 § 780-113 §§ A30 F Manufacture, Delivery, or Possession Guilty Plea - Negotiated',\n",
       " 'With Intent to Manufacture or Deliver',\n",
       " '03/14/2018 Confinement 5 - 23 months Min: 5 Month(s) Max: 23 Month(s)',\n",
       " '03/14/2018 Probation 2 years Max: 2 Year(s)',\n",
       " '08/16/2019 Confinement Time in to 23 months',\n",
       " '08/16/2019 Probation 3 years Max: 3 Year(s)',\n",
       " '04/18/2024 Probation 3 years Max: 3 Year(s)',\n",
       " '2 18 § 903 F Conspiracy - Manufacture, Delivery, Guilty Plea - Negotiated',\n",
       " 'or Possession With Intent to',\n",
       " 'Manufacture or Deliver',\n",
       " '03/14/2018 Confinement 5 - 23 months Min: 5 Month(s) Max: 23 Month(s)',\n",
       " '03/14/2018 Probation 2 years Max: 2 Year(s)',\n",
       " '08/16/2019 Confinement Time in to 23 months',\n",
       " '08/16/2019 Probation 3 years Max: 3 Year(s)',\n",
       " '04/18/2024 Probation 3 years Max: 3 Year(s)']"
      ]
     },
     "execution_count": 337,
     "metadata": {},
     "output_type": "execute_result"
    }
   ],
   "source": [
    "case_info[CP_starts[1]:CP_starts[2]]"
   ]
  }
 ],
 "metadata": {
  "kernelspec": {
   "display_name": "Python 3",
   "language": "python",
   "name": "python3"
  },
  "language_info": {
   "codemirror_mode": {
    "name": "ipython",
    "version": 3
   },
   "file_extension": ".py",
   "mimetype": "text/x-python",
   "name": "python",
   "nbconvert_exporter": "python",
   "pygments_lexer": "ipython3",
   "version": "3.11.6"
  }
 },
 "nbformat": 4,
 "nbformat_minor": 2
}
