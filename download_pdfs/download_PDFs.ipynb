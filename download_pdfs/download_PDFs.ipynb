{
 "cells": [
  {
   "cell_type": "code",
   "execution_count": 2,
   "metadata": {},
   "outputs": [],
   "source": [
    "import os\n",
    "import pandas as pd\n",
    "from dotenv import load_dotenv, dotenv_values\n",
    "from zenrows import ZenRowsClient\n",
    "import requests\n",
    "from multiprocessing.pool import ThreadPool"
   ]
  },
  {
   "cell_type": "code",
   "execution_count": 3,
   "metadata": {},
   "outputs": [],
   "source": [
    "path = \"~/Documents/secret_lives_pa/download_pdfs/output/\"\n",
    "\n",
    "court_cases_df = pd.read_csv(\n",
    "    path + \"court_cases_df.csv.gz\",\n",
    "    compression = \"gzip\",\n",
    "    dtype = {\"incident_nr\": \"string\", \"event_type\": \"string\", \"event_status\": \"string\", \"event_date\": \"string\", \"event_location\": \"string\"}\n",
    ")"
   ]
  },
  {
   "cell_type": "code",
   "execution_count": 4,
   "metadata": {},
   "outputs": [],
   "source": [
    "non_missing_links = court_cases_df.loc[\n",
    "    court_cases_df['docket_sheet_link'].notnull() &\n",
    "    court_cases_df['court_summary_link'].notnull()\n",
    "]"
   ]
  },
  {
   "cell_type": "code",
   "execution_count": null,
   "metadata": {},
   "outputs": [],
   "source": [
    "print(pd.isna(non_missing_links[\"docket_sheet_link\"]).value_counts())\n",
    "print(pd.isna(non_missing_links[\"court_summary_link\"]).value_counts())"
   ]
  },
  {
   "cell_type": "code",
   "execution_count": 6,
   "metadata": {},
   "outputs": [],
   "source": [
    "docket_sheet_urls = non_missing_links[\"docket_sheet_link\"].to_list()\n",
    "courty_summary_urls = non_missing_links[\"court_summary_link\"].to_list()\n",
    "docket_nrs = non_missing_links[\"docket_number\"].to_list()\n",
    "county = non_missing_links[\"county\"].to_list()\n",
    "\n",
    "pdf_file_names_ds = [i + \"_\" + j + \"_DS.pdf\" for i, j in zip(county, docket_nrs)]\n",
    "pdf_file_names_cs = [i + \"_\" + j + \"_CS.pdf\" for i, j in zip(county, docket_nrs)]"
   ]
  },
  {
   "cell_type": "code",
   "execution_count": null,
   "metadata": {},
   "outputs": [],
   "source": [
    "def download_pdf(url, name, key):\n",
    "    response = requests.get(\n",
    "        url = url,\n",
    "        params = {\n",
    "            \"url\": url,\n",
    "            \"apikey\": key\n",
    "        }\n",
    "    )\n",
    "    print(response.status_code)\n",
    "\n",
    "    with open(name, 'wb') as f:\n",
    "        f.write(response.content)"
   ]
  },
  {
   "cell_type": "code",
   "execution_count": 18,
   "metadata": {},
   "outputs": [],
   "source": [
    "load_dotenv()\n",
    "zenrows_api_key = os.getenv(\"ZENROWS_API_KEY\")"
   ]
  },
  {
   "cell_type": "code",
   "execution_count": 24,
   "metadata": {},
   "outputs": [],
   "source": [
    "client = ZenRowsClient(zenrows_api_key)\n",
    "concurrency = 5\n",
    "url = \"https://ujsportal.pacourts.us/Report/CpDocketSheet?docketNumber=MC-51-SU-0000025-2020&dnh=xKIQV6bWbABDWSq%2FxjNhog%3D%3D\"\n",
    "\n",
    "urls = [\n",
    "    \"https://ujsportal.pacourts.us/Report/CpDocketSheet?docketNumber=MC-51-SU-0000025-2020&dnh=xKIQV6bWbABDWSq%2FxjNhog%3D%3D\",\n",
    "    \"https://ujsportal.pacourts.us/Report/CpDocketSheet?docketNumber=MC-51-SU-0000025-2020&dnh=xKIQV6bWbABDWSq%2FxjNhog%3D%3D\",\n",
    "    \"https://ujsportal.pacourts.us/Report/CpDocketSheet?docketNumber=MC-51-SU-0000025-2020&dnh=xKIQV6bWbABDWSq%2FxjNhog%3D%3D\",\n",
    "    \"https://ujsportal.pacourts.us/Report/CpDocketSheet?docketNumber=MC-51-SU-0000025-2020&dnh=xKIQV6bWbABDWSq%2FxjNhog%3D%3D\",\n",
    "    \"https://ujsportal.pacourts.us/Report/CpDocketSheet?docketNumber=MC-51-SU-0000025-2020&dnh=xKIQV6bWbABDWSq%2FxjNhog%3D%3D\",\n",
    "    \"https://ujsportal.pacourts.us/Report/CpDocketSheet?docketNumber=MC-51-SU-0000025-2020&dnh=xKIQV6bWbABDWSq%2FxjNhog%3D%3D\",\n",
    "    \"https://ujsportal.pacourts.us/Report/CpDocketSheet?docketNumber=MC-51-SU-0000025-2020&dnh=xKIQV6bWbABDWSq%2FxjNhog%3D%3D\",\n",
    "    \"https://ujsportal.pacourts.us/Report/CpDocketSheet?docketNumber=MC-51-SU-0000025-2020&dnh=xKIQV6bWbABDWSq%2FxjNhog%3D%3D\",\n",
    "    \"https://ujsportal.pacourts.us/Report/CpDocketSheet?docketNumber=MC-51-SU-0000025-2020&dnh=xKIQV6bWbABDWSq%2FxjNhog%3D%3D\",\n",
    "    \"https://ujsportal.pacourts.us/Report/CpDocketSheet?docketNumber=MC-51-SU-0000025-2020&dnh=xKIQV6bWbABDWSq%2FxjNhog%3D%3D\",\n",
    "    \"https://ujsportal.pacourts.us/Report/CpDocketSheet?docketNumber=MC-51-SU-0000025-2020&dnh=xKIQV6bWbABDWSq%2FxjNhog%3D%3D\",\n",
    "    \"https://ujsportal.pacourts.us/Report/CpDocketSheet?docketNumber=MC-51-SU-0000025-2020&dnh=xKIQV6bWbABDWSq%2FxjNhog%3D%3D\",\n",
    "    \"https://ujsportal.pacourts.us/Report/CpDocketSheet?docketNumber=MC-51-SU-0000025-2020&dnh=xKIQV6bWbABDWSq%2FxjNhog%3D%3D\",\n",
    "    \"https://ujsportal.pacourts.us/Report/CpDocketSheet?docketNumber=MC-51-SU-0000025-2020&dnh=xKIQV6bWbABDWSq%2FxjNhog%3D%3D\",\n",
    "    \"https://ujsportal.pacourts.us/Report/CpDocketSheet?docketNumber=MC-51-SU-0000025-2020&dnh=xKIQV6bWbABDWSq%2FxjNhog%3D%3D\",\n",
    "    \"https://ujsportal.pacourts.us/Report/CpDocketSheet?docketNumber=MC-51-SU-0000025-2020&dnh=xKIQV6bWbABDWSq%2FxjNhog%3D%3D\",\n",
    "    \"https://ujsportal.pacourts.us/Report/CpDocketSheet?docketNumber=MC-51-SU-0000025-2020&dnh=xKIQV6bWbABDWSq%2FxjNhog%3D%3D\",\n",
    "    \"https://ujsportal.pacourts.us/Report/CpDocketSheet?docketNumber=MC-51-SU-0000025-2020&dnh=xKIQV6bWbABDWSq%2FxjNhog%3D%3D\",\n",
    "    \"https://ujsportal.pacourts.us/Report/CpDocketSheet?docketNumber=MC-51-SU-0000025-2020&dnh=xKIQV6bWbABDWSq%2FxjNhog%3D%3D\",\n",
    "    \"https://ujsportal.pacourts.us/Report/CpDocketSheet?docketNumber=MC-51-SU-0000025-2020&dnh=xKIQV6bWbABDWSq%2FxjNhog%3D%3D\",\n",
    "    \"https://ujsportal.pacourts.us/Report/CpDocketSheet?docketNumber=MC-51-SU-0000025-2020&dnh=xKIQV6bWbABDWSq%2FxjNhog%3D%3D\",\n",
    "    \"https://ujsportal.pacourts.us/Report/CpDocketSheet?docketNumber=MC-51-SU-0000025-2020&dnh=xKIQV6bWbABDWSq%2FxjNhog%3D%3D\",\n",
    "    \"https://ujsportal.pacourts.us/Report/CpDocketSheet?docketNumber=MC-51-SU-0000025-2020&dnh=xKIQV6bWbABDWSq%2FxjNhog%3D%3D\",\n",
    "    \"https://ujsportal.pacourts.us/Report/CpDocketSheet?docketNumber=MC-51-SU-0000025-2020&dnh=xKIQV6bWbABDWSq%2FxjNhog%3D%3D\",\n",
    "    \"https://ujsportal.pacourts.us/Report/CpDocketSheet?docketNumber=MC-51-SU-0000025-2020&dnh=xKIQV6bWbABDWSq%2FxjNhog%3D%3D\"\n",
    "]"
   ]
  },
  {
   "cell_type": "code",
   "execution_count": 14,
   "metadata": {},
   "outputs": [],
   "source": [
    "names = [\n",
    "    '/home/joe/Documents/secret_lives_pa/scrape_links/output/case1.pdf',\n",
    "    '/home/joe/Documents/secret_lives_pa/scrape_links/output/case2.pdf',\n",
    "    '/home/joe/Documents/secret_lives_pa/scrape_links/output/case3.pdf',\n",
    "    '/home/joe/Documents/secret_lives_pa/scrape_links/output/case4.pdf',\n",
    "    '/home/joe/Documents/secret_lives_pa/scrape_links/output/case5.pdf',\n",
    "    '/home/joe/Documents/secret_lives_pa/scrape_links/output/case6.pdf',\n",
    "    '/home/joe/Documents/secret_lives_pa/scrape_links/output/case7.pdf',\n",
    "    '/home/joe/Documents/secret_lives_pa/scrape_links/output/case8.pdf',\n",
    "    '/home/joe/Documents/secret_lives_pa/scrape_links/output/case9.pdf',\n",
    "    '/home/joe/Documents/secret_lives_pa/scrape_links/output/case10.pdf',\n",
    "    '/home/joe/Documents/secret_lives_pa/scrape_links/output/case11.pdf',\n",
    "    '/home/joe/Documents/secret_lives_pa/scrape_links/output/case12.pdf',\n",
    "    '/home/joe/Documents/secret_lives_pa/scrape_links/output/case13.pdf',\n",
    "    '/home/joe/Documents/secret_lives_pa/scrape_links/output/case14.pdf',\n",
    "    '/home/joe/Documents/secret_lives_pa/scrape_links/output/case15.pdf',\n",
    "    '/home/joe/Documents/secret_lives_pa/scrape_links/output/case16.pdf',\n",
    "    '/home/joe/Documents/secret_lives_pa/scrape_links/output/case17.pdf',\n",
    "    '/home/joe/Documents/secret_lives_pa/scrape_links/output/case18.pdf',\n",
    "    '/home/joe/Documents/secret_lives_pa/scrape_links/output/case19.pdf',\n",
    "    '/home/joe/Documents/secret_lives_pa/scrape_links/output/case20.pdf',\n",
    "    '/home/joe/Documents/secret_lives_pa/scrape_links/output/case21.pdf',\n",
    "    '/home/joe/Documents/secret_lives_pa/scrape_links/output/case22.pdf',\n",
    "    '/home/joe/Documents/secret_lives_pa/scrape_links/output/case23.pdf',\n",
    "    '/home/joe/Documents/secret_lives_pa/scrape_links/output/case24.pdf',\n",
    "    '/home/joe/Documents/secret_lives_pa/scrape_links/output/case25.pdf'\n",
    "]"
   ]
  },
  {
   "cell_type": "code",
   "execution_count": 23,
   "metadata": {},
   "outputs": [],
   "source": [
    "api_keys = [\n",
    "    zenrows_api_key, zenrows_api_key, zenrows_api_key, zenrows_api_key, zenrows_api_key,\n",
    "    zenrows_api_key, zenrows_api_key, zenrows_api_key, zenrows_api_key, zenrows_api_key,\n",
    "    zenrows_api_key, zenrows_api_key, zenrows_api_key, zenrows_api_key, zenrows_api_key,\n",
    "    zenrows_api_key, zenrows_api_key, zenrows_api_key, zenrows_api_key, zenrows_api_key,\n",
    "    zenrows_api_key, zenrows_api_key, zenrows_api_key, zenrows_api_key, zenrows_api_key\n",
    "]"
   ]
  },
  {
   "cell_type": "code",
   "execution_count": 4,
   "metadata": {},
   "outputs": [],
   "source": [
    "response = client.get(url)"
   ]
  },
  {
   "cell_type": "code",
   "execution_count": 42,
   "metadata": {},
   "outputs": [
    {
     "name": "stdout",
     "output_type": "stream",
     "text": [
      "200\n"
     ]
    }
   ],
   "source": [
    "response = requests.get(\"https://communicate.gse.harvard.edu/files/commlab/files/_structure_of_a_paper.pdf\")\n",
    "\n",
    "user_agent = \"scrapping_script/1.0\"\n",
    "headers = {'User-Agent': user_agent}\n",
    "response = requests.get(\"https://ujsportal.pacourts.us/Report/CpDocketSheet?docketNumber=MC-51-SU-0000025-2020&dnh=xKIQV6bWbABDWSq%2FxjNhog%3D%3D\", headers=headers)\n",
    "print(response.status_code)"
   ]
  },
  {
   "cell_type": "code",
   "execution_count": 9,
   "metadata": {},
   "outputs": [],
   "source": [
    "with open('/home/joe/Documents/secret_lives_pa/scrape_links/output/case1.pdf', 'wb') as f:\n",
    "    f.write(response.content)"
   ]
  },
  {
   "cell_type": "code",
   "execution_count": 29,
   "metadata": {},
   "outputs": [],
   "source": [
    "def download_pdf(url, name, key):\n",
    "    response = requests.get(\n",
    "        url = url,\n",
    "        params = {\n",
    "            \"url\": url,\n",
    "            \"apikey\": key\n",
    "        }\n",
    "    )\n",
    "    print(response.status_code)\n",
    "\n",
    "    with open(name, 'wb') as f:\n",
    "        f.write(response.content)"
   ]
  },
  {
   "cell_type": "code",
   "execution_count": 37,
   "metadata": {},
   "outputs": [
    {
     "name": "stdout",
     "output_type": "stream",
     "text": [
      "401\n",
      "200\n"
     ]
    }
   ],
   "source": [
    "#download_pdf(url, names[0], api_keys[0])\n",
    "\n",
    "response = requests.get(\n",
    "        url = urls[0],\n",
    "        #params = {\n",
    "        #    \"url\": urls[0],\n",
    "        #    #\"apikey\": api_keys[0]\n",
    "        #}\n",
    "    )\n",
    "\n",
    "print(response.status_code)\n",
    "\n",
    "#with open(names[0], 'wb') as f:\n",
    "    #f.write(response.content)\n",
    "\n",
    "response = requests.get(\"https://www.google.com\")\n",
    "print(response.status_code)"
   ]
  },
  {
   "cell_type": "code",
   "execution_count": 27,
   "metadata": {},
   "outputs": [
    {
     "name": "stdout",
     "output_type": "stream",
     "text": [
      "401\n",
      "401\n",
      "401\n",
      "401\n",
      "401\n",
      "401\n",
      "401\n",
      "401\n",
      "401\n",
      "401\n",
      "401\n",
      "401\n",
      "401\n",
      "401\n",
      "401\n",
      "401\n",
      "401\n",
      "401\n",
      "401\n",
      "401\n",
      "401\n",
      "401\n",
      "401\n",
      "401\n",
      "401\n"
     ]
    }
   ],
   "source": [
    "pool = ThreadPool(concurrency)\n",
    "pool.starmap(download_pdf, zip(urls, names, api_keys))\n",
    "#pool.starmap(func, zip(a_args, repeat(second_arg)))\n",
    "pool.close()\n",
    "pool.join()"
   ]
  }
 ],
 "metadata": {
  "kernelspec": {
   "display_name": "secret_lives_pa_virtenv",
   "language": "python",
   "name": "python3"
  },
  "language_info": {
   "codemirror_mode": {
    "name": "ipython",
    "version": 3
   },
   "file_extension": ".py",
   "mimetype": "text/x-python",
   "name": "python",
   "nbconvert_exporter": "python",
   "pygments_lexer": "ipython3",
   "version": "3.11.0"
  }
 },
 "nbformat": 4,
 "nbformat_minor": 2
}
